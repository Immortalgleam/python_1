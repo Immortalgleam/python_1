{
 "cells": [
  {
   "cell_type": "markdown",
   "id": "abe2ff6a-6243-48c7-9b67-336fccf82084",
   "metadata": {},
   "source": [
    "Exercises"
   ]
  },
  {
   "cell_type": "code",
   "execution_count": 1,
   "id": "e2e4cb84-c9fa-46b3-b482-121b73776f7b",
   "metadata": {},
   "outputs": [
    {
     "name": "stdout",
     "output_type": "stream",
     "text": [
      "User name - Tolik\n",
      " User age - 23\n"
     ]
    }
   ],
   "source": [
    "name = 'Tolik'\n",
    "age = 23\n",
    "print(f'User name - {name}')\n",
    "print(f' User age - {age}')"
   ]
  },
  {
   "cell_type": "code",
   "execution_count": 8,
   "id": "bdfe6fc5-cd55-44a8-81ab-7f06f7aba316",
   "metadata": {},
   "outputs": [
    {
     "name": "stdout",
     "output_type": "stream",
     "text": [
      "the number is even\n"
     ]
    }
   ],
   "source": [
    "x = 2\n",
    "\n",
    "if x % 2 == 0:\n",
    "    print('the number is even')\n",
    "\n",
    "else:\n",
    "    print('the number is odd')"
   ]
  },
  {
   "cell_type": "code",
   "execution_count": 64,
   "id": "ef66dfa8-b5a8-4ab6-b120-7bf5894a312c",
   "metadata": {},
   "outputs": [
    {
     "name": "stdout",
     "output_type": "stream",
     "text": [
      "number is even\n"
     ]
    }
   ],
   "source": [
    "x = 2\n",
    "\n",
    "number = 'number is even' if x % 2 == 0 else 'number is odd'\n",
    "\n",
    "print(number)\n"
   ]
  },
  {
   "cell_type": "code",
   "execution_count": 63,
   "id": "01f901dc-c663-4cac-b55b-57635202878b",
   "metadata": {},
   "outputs": [
    {
     "name": "stdout",
     "output_type": "stream",
     "text": [
      "number is odd\n"
     ]
    }
   ],
   "source": [
    "b = 3\n",
    "\n",
    "number = 'number is even' if b % 2 == 0 else 'number is odd'\n",
    "\n",
    "print(number)"
   ]
  },
  {
   "cell_type": "code",
   "execution_count": null,
   "id": "4a252282-caf5-4793-b6a1-a0011250633a",
   "metadata": {},
   "outputs": [],
   "source": []
  }
 ],
 "metadata": {
  "kernelspec": {
   "display_name": "Python 3 (ipykernel)",
   "language": "python",
   "name": "python3"
  },
  "language_info": {
   "codemirror_mode": {
    "name": "ipython",
    "version": 3
   },
   "file_extension": ".py",
   "mimetype": "text/x-python",
   "name": "python",
   "nbconvert_exporter": "python",
   "pygments_lexer": "ipython3",
   "version": "3.11.4"
  }
 },
 "nbformat": 4,
 "nbformat_minor": 5
}
